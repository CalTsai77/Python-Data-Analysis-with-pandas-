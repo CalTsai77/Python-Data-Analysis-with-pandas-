{
 "cells": [
  {
   "cell_type": "code",
   "execution_count": 1,
   "metadata": {},
   "outputs": [],
   "source": [
    "import pandas as pd\n",
    "import numpy as np\n",
    "%matplotlib inline\n",
    "import matplotlib.pyplot as plt"
   ]
  },
  {
   "cell_type": "code",
   "execution_count": 2,
   "metadata": {},
   "outputs": [
    {
     "data": {
      "text/html": [
       "<div>\n",
       "<style scoped>\n",
       "    .dataframe tbody tr th:only-of-type {\n",
       "        vertical-align: middle;\n",
       "    }\n",
       "\n",
       "    .dataframe tbody tr th {\n",
       "        vertical-align: top;\n",
       "    }\n",
       "\n",
       "    .dataframe thead th {\n",
       "        text-align: right;\n",
       "    }\n",
       "</style>\n",
       "<table border=\"1\" class=\"dataframe\">\n",
       "  <thead>\n",
       "    <tr style=\"text-align: right;\">\n",
       "      <th></th>\n",
       "      <th>NEIGHBORHOOD</th>\n",
       "      <th>BLACKdeaths</th>\n",
       "      <th>Black MD AGE AT DEATH</th>\n",
       "      <th>WHITEdeaths</th>\n",
       "      <th>White MD AGE AT DEATH</th>\n",
       "      <th>TOTALdeaths*</th>\n",
       "      <th>TOTAL MD AGE AT DEATH</th>\n",
       "    </tr>\n",
       "  </thead>\n",
       "  <tbody>\n",
       "    <tr>\n",
       "      <th>0</th>\n",
       "      <td>SOUTH SHORE</td>\n",
       "      <td>0.0</td>\n",
       "      <td>0.0</td>\n",
       "      <td>0.0</td>\n",
       "      <td>0.0</td>\n",
       "      <td>0.0</td>\n",
       "      <td>0.0</td>\n",
       "    </tr>\n",
       "    <tr>\n",
       "      <th>1</th>\n",
       "      <td>CHATEAU</td>\n",
       "      <td>0.0</td>\n",
       "      <td>0.0</td>\n",
       "      <td>2.0</td>\n",
       "      <td>NaN</td>\n",
       "      <td>2.0</td>\n",
       "      <td>NaN</td>\n",
       "    </tr>\n",
       "    <tr>\n",
       "      <th>2</th>\n",
       "      <td>NORTH SHORE</td>\n",
       "      <td>0.0</td>\n",
       "      <td>0.0</td>\n",
       "      <td>4.0</td>\n",
       "      <td>NaN</td>\n",
       "      <td>5.0</td>\n",
       "      <td>80.0</td>\n",
       "    </tr>\n",
       "    <tr>\n",
       "      <th>3</th>\n",
       "      <td>ALLEGHENY WEST</td>\n",
       "      <td>3.0</td>\n",
       "      <td>NaN</td>\n",
       "      <td>4.0</td>\n",
       "      <td>NaN</td>\n",
       "      <td>8.0</td>\n",
       "      <td>65.0</td>\n",
       "    </tr>\n",
       "    <tr>\n",
       "      <th>4</th>\n",
       "      <td>SAINT CLAIR</td>\n",
       "      <td>5.0</td>\n",
       "      <td>67.5</td>\n",
       "      <td>5.0</td>\n",
       "      <td>67.5</td>\n",
       "      <td>10.0</td>\n",
       "      <td>67.5</td>\n",
       "    </tr>\n",
       "    <tr>\n",
       "      <th>5</th>\n",
       "      <td>WEST END</td>\n",
       "      <td>5.0</td>\n",
       "      <td>76.7</td>\n",
       "      <td>9.0</td>\n",
       "      <td>78.0</td>\n",
       "      <td>14.0</td>\n",
       "      <td>77.5</td>\n",
       "    </tr>\n",
       "    <tr>\n",
       "      <th>6</th>\n",
       "      <td>ESPLEN</td>\n",
       "      <td>3.0</td>\n",
       "      <td>NaN</td>\n",
       "      <td>13.0</td>\n",
       "      <td>72.5</td>\n",
       "      <td>16.0</td>\n",
       "      <td>71.7</td>\n",
       "    </tr>\n",
       "    <tr>\n",
       "      <th>7</th>\n",
       "      <td>ARLINGTON HEIGHTS</td>\n",
       "      <td>10.0</td>\n",
       "      <td>55.0</td>\n",
       "      <td>7.0</td>\n",
       "      <td>72.5</td>\n",
       "      <td>17.0</td>\n",
       "      <td>63.7</td>\n",
       "    </tr>\n",
       "    <tr>\n",
       "      <th>8</th>\n",
       "      <td>STRIP DISTRICT</td>\n",
       "      <td>7.0</td>\n",
       "      <td>76.7</td>\n",
       "      <td>12.0</td>\n",
       "      <td>70.0</td>\n",
       "      <td>19.0</td>\n",
       "      <td>72.5</td>\n",
       "    </tr>\n",
       "    <tr>\n",
       "      <th>9</th>\n",
       "      <td>FAIRYWOOD</td>\n",
       "      <td>11.0</td>\n",
       "      <td>62.5</td>\n",
       "      <td>9.0</td>\n",
       "      <td>42.5</td>\n",
       "      <td>21.0</td>\n",
       "      <td>53.3</td>\n",
       "    </tr>\n",
       "    <tr>\n",
       "      <th>10</th>\n",
       "      <td>HAYS</td>\n",
       "      <td>1.0</td>\n",
       "      <td>NaN</td>\n",
       "      <td>23.0</td>\n",
       "      <td>78.9</td>\n",
       "      <td>24.0</td>\n",
       "      <td>78.3</td>\n",
       "    </tr>\n",
       "    <tr>\n",
       "      <th>11</th>\n",
       "      <td>MOUNT OLIVER NEIGHBORHOOD</td>\n",
       "      <td>9.0</td>\n",
       "      <td>67.5</td>\n",
       "      <td>17.0</td>\n",
       "      <td>80.0</td>\n",
       "      <td>26.0</td>\n",
       "      <td>75.0</td>\n",
       "    </tr>\n",
       "    <tr>\n",
       "      <th>12</th>\n",
       "      <td>EAST CARNEGIE</td>\n",
       "      <td>9.0</td>\n",
       "      <td>72.5</td>\n",
       "      <td>18.0</td>\n",
       "      <td>81.0</td>\n",
       "      <td>27.0</td>\n",
       "      <td>80.0</td>\n",
       "    </tr>\n",
       "    <tr>\n",
       "      <th>13</th>\n",
       "      <td>REGENT SQUARE</td>\n",
       "      <td>1.0</td>\n",
       "      <td>NaN</td>\n",
       "      <td>27.0</td>\n",
       "      <td>75.8</td>\n",
       "      <td>28.0</td>\n",
       "      <td>76.7</td>\n",
       "    </tr>\n",
       "    <tr>\n",
       "      <th>14</th>\n",
       "      <td>CALIFORNIA-KIRKBRIDE</td>\n",
       "      <td>16.0</td>\n",
       "      <td>70.0</td>\n",
       "      <td>10.0</td>\n",
       "      <td>70.0</td>\n",
       "      <td>30.0</td>\n",
       "      <td>69.3</td>\n",
       "    </tr>\n",
       "  </tbody>\n",
       "</table>\n",
       "</div>"
      ],
      "text/plain": [
       "                 NEIGHBORHOOD  BLACKdeaths  Black MD AGE AT DEATH  \\\n",
       "0                 SOUTH SHORE          0.0                    0.0   \n",
       "1                     CHATEAU          0.0                    0.0   \n",
       "2                 NORTH SHORE          0.0                    0.0   \n",
       "3              ALLEGHENY WEST          3.0                    NaN   \n",
       "4                 SAINT CLAIR          5.0                   67.5   \n",
       "5                    WEST END          5.0                   76.7   \n",
       "6                      ESPLEN          3.0                    NaN   \n",
       "7           ARLINGTON HEIGHTS         10.0                   55.0   \n",
       "8              STRIP DISTRICT          7.0                   76.7   \n",
       "9                   FAIRYWOOD         11.0                   62.5   \n",
       "10                       HAYS          1.0                    NaN   \n",
       "11  MOUNT OLIVER NEIGHBORHOOD          9.0                   67.5   \n",
       "12              EAST CARNEGIE          9.0                   72.5   \n",
       "13              REGENT SQUARE          1.0                    NaN   \n",
       "14       CALIFORNIA-KIRKBRIDE         16.0                   70.0   \n",
       "\n",
       "    WHITEdeaths  White MD AGE AT DEATH  TOTALdeaths*  TOTAL MD AGE AT DEATH  \n",
       "0           0.0                    0.0           0.0                    0.0  \n",
       "1           2.0                    NaN           2.0                    NaN  \n",
       "2           4.0                    NaN           5.0                   80.0  \n",
       "3           4.0                    NaN           8.0                   65.0  \n",
       "4           5.0                   67.5          10.0                   67.5  \n",
       "5           9.0                   78.0          14.0                   77.5  \n",
       "6          13.0                   72.5          16.0                   71.7  \n",
       "7           7.0                   72.5          17.0                   63.7  \n",
       "8          12.0                   70.0          19.0                   72.5  \n",
       "9           9.0                   42.5          21.0                   53.3  \n",
       "10         23.0                   78.9          24.0                   78.3  \n",
       "11         17.0                   80.0          26.0                   75.0  \n",
       "12         18.0                   81.0          27.0                   80.0  \n",
       "13         27.0                   75.8          28.0                   76.7  \n",
       "14         10.0                   70.0          30.0                   69.3  "
      ]
     },
     "execution_count": 2,
     "metadata": {},
     "output_type": "execute_result"
    }
   ],
   "source": [
    "death = pd.read_csv(\"https://data.wprdc.org/dataset/ee735209-4de7-4ea4-b446-bf0f0f6d9cb3/resource/c2e1500a-a12a-4e91-be94-76c6a892b7e2/download/nhoodmedianage20112015.csv\")\n",
    "death.head(15)"
   ]
  },
  {
   "cell_type": "code",
   "execution_count": 25,
   "metadata": {},
   "outputs": [
    {
     "data": {
      "text/html": [
       "<div>\n",
       "<style scoped>\n",
       "    .dataframe tbody tr th:only-of-type {\n",
       "        vertical-align: middle;\n",
       "    }\n",
       "\n",
       "    .dataframe tbody tr th {\n",
       "        vertical-align: top;\n",
       "    }\n",
       "\n",
       "    .dataframe thead th {\n",
       "        text-align: right;\n",
       "    }\n",
       "</style>\n",
       "<table border=\"1\" class=\"dataframe\">\n",
       "  <thead>\n",
       "    <tr style=\"text-align: right;\">\n",
       "      <th></th>\n",
       "      <th>NEIGHBORHOOD</th>\n",
       "      <th>BLACKdeaths</th>\n",
       "      <th>Black MD AGE AT DEATH</th>\n",
       "      <th>WHITEdeaths</th>\n",
       "      <th>White MD AGE AT DEATH</th>\n",
       "      <th>TOTALdeaths*</th>\n",
       "      <th>TOTAL MD AGE AT DEATH</th>\n",
       "    </tr>\n",
       "  </thead>\n",
       "  <tbody>\n",
       "    <tr>\n",
       "      <th>11</th>\n",
       "      <td>MOUNT OLIVER NEIGHBORHOOD</td>\n",
       "      <td>9.0</td>\n",
       "      <td>67.5</td>\n",
       "      <td>17.0</td>\n",
       "      <td>80.0</td>\n",
       "      <td>26.0</td>\n",
       "      <td>75.0</td>\n",
       "    </tr>\n",
       "    <tr>\n",
       "      <th>12</th>\n",
       "      <td>EAST CARNEGIE</td>\n",
       "      <td>9.0</td>\n",
       "      <td>72.5</td>\n",
       "      <td>18.0</td>\n",
       "      <td>81.0</td>\n",
       "      <td>27.0</td>\n",
       "      <td>80.0</td>\n",
       "    </tr>\n",
       "    <tr>\n",
       "      <th>13</th>\n",
       "      <td>REGENT SQUARE</td>\n",
       "      <td>1.0</td>\n",
       "      <td>NaN</td>\n",
       "      <td>27.0</td>\n",
       "      <td>75.8</td>\n",
       "      <td>28.0</td>\n",
       "      <td>76.7</td>\n",
       "    </tr>\n",
       "    <tr>\n",
       "      <th>14</th>\n",
       "      <td>CALIFORNIA-KIRKBRIDE</td>\n",
       "      <td>16.0</td>\n",
       "      <td>70.0</td>\n",
       "      <td>10.0</td>\n",
       "      <td>70.0</td>\n",
       "      <td>30.0</td>\n",
       "      <td>69.3</td>\n",
       "    </tr>\n",
       "    <tr>\n",
       "      <th>15</th>\n",
       "      <td>CHARTIERS CITY</td>\n",
       "      <td>20.0</td>\n",
       "      <td>70.0</td>\n",
       "      <td>15.0</td>\n",
       "      <td>81.2</td>\n",
       "      <td>35.0</td>\n",
       "      <td>76.9</td>\n",
       "    </tr>\n",
       "  </tbody>\n",
       "</table>\n",
       "</div>"
      ],
      "text/plain": [
       "                 NEIGHBORHOOD  BLACKdeaths  Black MD AGE AT DEATH  \\\n",
       "11  MOUNT OLIVER NEIGHBORHOOD          9.0                   67.5   \n",
       "12              EAST CARNEGIE          9.0                   72.5   \n",
       "13              REGENT SQUARE          1.0                    NaN   \n",
       "14       CALIFORNIA-KIRKBRIDE         16.0                   70.0   \n",
       "15             CHARTIERS CITY         20.0                   70.0   \n",
       "\n",
       "    WHITEdeaths  White MD AGE AT DEATH  TOTALdeaths*  TOTAL MD AGE AT DEATH  \n",
       "11         17.0                   80.0          26.0                   75.0  \n",
       "12         18.0                   81.0          27.0                   80.0  \n",
       "13         27.0                   75.8          28.0                   76.7  \n",
       "14         10.0                   70.0          30.0                   69.3  \n",
       "15         15.0                   81.2          35.0                   76.9  "
      ]
     },
     "execution_count": 25,
     "metadata": {},
     "output_type": "execute_result"
    }
   ],
   "source": [
    "quantity_bool = []\n",
    "death_total = death[\"TOTALdeaths*\"]\n",
    "for length in death_total:\n",
    "    if length > 24:\n",
    "        quantity_bool.append(True)\n",
    "    else:\n",
    "        quantity_bool.append(False)\n",
    "is_over_tf = pd.Series(quantity_bool)\n",
    "big_death = death[is_over_tf]\n",
    "big_death.head()"
   ]
  },
  {
   "cell_type": "code",
   "execution_count": 32,
   "metadata": {},
   "outputs": [
    {
     "data": {
      "text/html": [
       "<div>\n",
       "<style scoped>\n",
       "    .dataframe tbody tr th:only-of-type {\n",
       "        vertical-align: middle;\n",
       "    }\n",
       "\n",
       "    .dataframe tbody tr th {\n",
       "        vertical-align: top;\n",
       "    }\n",
       "\n",
       "    .dataframe thead th {\n",
       "        text-align: right;\n",
       "    }\n",
       "</style>\n",
       "<table border=\"1\" class=\"dataframe\">\n",
       "  <thead>\n",
       "    <tr style=\"text-align: right;\">\n",
       "      <th></th>\n",
       "      <th>NEIGHBORHOOD</th>\n",
       "      <th>BLACKdeaths</th>\n",
       "      <th>Black MD AGE AT DEATH</th>\n",
       "      <th>WHITEdeaths</th>\n",
       "      <th>White MD AGE AT DEATH</th>\n",
       "      <th>TOTALdeaths*</th>\n",
       "      <th>TOTAL MD AGE AT DEATH</th>\n",
       "    </tr>\n",
       "  </thead>\n",
       "  <tbody>\n",
       "    <tr>\n",
       "      <th>49</th>\n",
       "      <td>EAST ALLEGHENY</td>\n",
       "      <td>51.0</td>\n",
       "      <td>62.7</td>\n",
       "      <td>100.0</td>\n",
       "      <td>70.0</td>\n",
       "      <td>157.0</td>\n",
       "      <td>66.2</td>\n",
       "    </tr>\n",
       "    <tr>\n",
       "      <th>42</th>\n",
       "      <td>ALLENTOWN</td>\n",
       "      <td>41.0</td>\n",
       "      <td>55.6</td>\n",
       "      <td>82.0</td>\n",
       "      <td>72.1</td>\n",
       "      <td>126.0</td>\n",
       "      <td>66.5</td>\n",
       "    </tr>\n",
       "    <tr>\n",
       "      <th>38</th>\n",
       "      <td>MANCHESTER</td>\n",
       "      <td>97.0</td>\n",
       "      <td>67.2</td>\n",
       "      <td>15.0</td>\n",
       "      <td>70.0</td>\n",
       "      <td>113.0</td>\n",
       "      <td>67.4</td>\n",
       "    </tr>\n",
       "    <tr>\n",
       "      <th>22</th>\n",
       "      <td>NORTHVIEW HEIGHTS</td>\n",
       "      <td>51.0</td>\n",
       "      <td>69.5</td>\n",
       "      <td>1.0</td>\n",
       "      <td>NaN</td>\n",
       "      <td>54.0</td>\n",
       "      <td>68.0</td>\n",
       "    </tr>\n",
       "    <tr>\n",
       "      <th>14</th>\n",
       "      <td>CALIFORNIA-KIRKBRIDE</td>\n",
       "      <td>16.0</td>\n",
       "      <td>70.0</td>\n",
       "      <td>10.0</td>\n",
       "      <td>70.0</td>\n",
       "      <td>30.0</td>\n",
       "      <td>69.3</td>\n",
       "    </tr>\n",
       "  </tbody>\n",
       "</table>\n",
       "</div>"
      ],
      "text/plain": [
       "            NEIGHBORHOOD  BLACKdeaths  Black MD AGE AT DEATH  WHITEdeaths  \\\n",
       "49        EAST ALLEGHENY         51.0                   62.7        100.0   \n",
       "42             ALLENTOWN         41.0                   55.6         82.0   \n",
       "38            MANCHESTER         97.0                   67.2         15.0   \n",
       "22     NORTHVIEW HEIGHTS         51.0                   69.5          1.0   \n",
       "14  CALIFORNIA-KIRKBRIDE         16.0                   70.0         10.0   \n",
       "\n",
       "    White MD AGE AT DEATH  TOTALdeaths*  TOTAL MD AGE AT DEATH  \n",
       "49                   70.0         157.0                   66.2  \n",
       "42                   72.1         126.0                   66.5  \n",
       "38                   70.0         113.0                   67.4  \n",
       "22                    NaN          54.0                   68.0  \n",
       "14                   70.0          30.0                   69.3  "
      ]
     },
     "execution_count": 32,
     "metadata": {},
     "output_type": "execute_result"
    }
   ],
   "source": [
    "big_death = big_death.sort_values(\"TOTAL MD AGE AT DEATH\", ascending = True)\n",
    "big_death.head()\n"
   ]
  },
  {
   "cell_type": "code",
   "execution_count": 40,
   "metadata": {},
   "outputs": [
    {
     "data": {
      "text/plain": [
       "<matplotlib.axes._subplots.AxesSubplot at 0x7fb65003e2b0>"
      ]
     },
     "execution_count": 40,
     "metadata": {},
     "output_type": "execute_result"
    },
    {
     "data": {
      "image/png": "[encoded data removed]",
      "text/plain": [
       "<Figure size 432x288 with 1 Axes>"
      ]
     },
     "metadata": {
      "needs_background": "light"
     },
     "output_type": "display_data"
    }
   ],
   "source": [
    "big_death.plot.scatter(x = \"Black MD AGE AT DEATH\", y = \"TOTAL MD AGE AT DEATH\", title = \"Total MD Age at Death vs Black MD age at Death\")"
   ]
  },
  {
   "cell_type": "code",
   "execution_count": 41,
   "metadata": {},
   "outputs": [
    {
     "data": {
      "text/plain": [
       "<matplotlib.axes._subplots.AxesSubplot at 0x7fb6508195e0>"
      ]
     },
     "execution_count": 41,
     "metadata": {},
     "output_type": "execute_result"
    },
    {
     "data": {
      "image/png": "[encoded data removed]",
      "text/plain": [
       "<Figure size 432x288 with 1 Axes>"
      ]
     },
     "metadata": {
      "needs_background": "light"
     },
     "output_type": "display_data"
    }
   ],
   "source": [
    "big_death.plot.scatter(x=\"White MD AGE AT DEATH\", y = \"TOTAL MD AGE AT DEATH\", title = \"Total MD Age at Death vs White MD Age at Death\")"
   ]
  },
  {
   "cell_type": "code",
   "execution_count": 42,
   "metadata": {},
   "outputs": [
    {
     "data": {
      "text/plain": [
       "<matplotlib.axes._subplots.AxesSubplot at 0x7fb64ff985e0>"
      ]
     },
     "execution_count": 42,
     "metadata": {},
     "output_type": "execute_result"
    },
    {
     "data": {
      "image/png": "[encoded data removed]",
      "text/plain": [
       "<Figure size 432x288 with 1 Axes>"
      ]
     },
     "metadata": {
      "needs_background": "light"
     },
     "output_type": "display_data"
    }
   ],
   "source": [
    "big_death.plot.scatter(x=\"NEIGHBORHOOD\", y=\"TOTAL MD AGE AT DEATH\")"
   ]
  },
  {
   "cell_type": "markdown",
   "metadata": {},
   "source": [
    "#### Conclusion\n",
    "I used the dataset \"Allegheny County Median Age at Death\" to determine the neighborhoods with the lowest median age of death. This is a part of our calculation for the neighborhood that is the best at being the worst/dangerous and I chose this dataset because lower ages of death means there is likely an outside factor causing people to have a shorter lifespan. The number one neighborhood in this dataset is *East Allegheny* coming in with a whopping 66.2 years as the total median age at death. In my calculations, I removed any datasets that had less than 25 total deaths counted because they could skew the data and cause a neighborhood to win this section just because they have very few recorded deaths and 25 seemed to be the number where the median became accurate. The runner ups: *Allentown* came in second and *Manchester* came in third for the lowest median age at death. I included the two graphs at the end because I think that the difference between the two give some interesting insights about the age of death by race. I won't get too much into that because that's not what this is about, but I thought it was worth mentioning that the scaling is different between white and black median deaths and that it seems that black people tend to have a lower median age at death compared to the total for each neighborhood. "
   ]
  },
  {
   "cell_type": "code",
   "execution_count": null,
   "metadata": {},
   "outputs": [],
   "source": []
  }
 ],
 "metadata": {
  "kernelspec": {
   "display_name": "Python 3",
   "language": "python",
   "name": "python3"
  },
  "language_info": {
   "codemirror_mode": {
    "name": "ipython",
    "version": 3
   },
   "file_extension": ".py",
   "mimetype": "text/x-python",
   "name": "python",
   "nbconvert_exporter": "python",
   "pygments_lexer": "ipython3",
   "version": "3.8.3"
  }
 },
 "nbformat": 4,
 "nbformat_minor": 4
}
