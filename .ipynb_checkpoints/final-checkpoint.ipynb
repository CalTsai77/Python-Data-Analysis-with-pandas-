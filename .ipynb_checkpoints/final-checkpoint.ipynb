{
 "cells": [
  {
   "cell_type": "markdown",
   "metadata": {},
   "source": [
    "## The Best-Worst Neighborhood\n",
    "#### Team Proficient Pandas\n"
   ]
  },
  {
   "cell_type": "markdown",
   "metadata": {},
   "source": [
    "##### **Introduction**\n",
    "*Our group decided to explore the question \"What is the most dangerous neighborhood to live in in Pittsburgh?\" With data from the WPRDC, we settled on three factors that determine how dangerous a neighborhood may be to live in. The first factor we chose was COVID-19. We used a data set \"COVID-19 Counts by Municipality and Neighborhood\" to determine how well each neighborhood was handling the current pandemic. The next factor we thought was important was gun-violence. For this factor we used the data set \"Firearm Seizures Data\" in order to find out which neighborhood had the most reports of firearms being seized there. We thought that this was the best way to determine the threat of gun-violence in each neighborhood. Finally, we used \"Allegheny County Median Age at Death\" to determine which neighborhoods had the lowest median age at death. We thought this was a factor in being the most dangerous because people dying at younger ages means that there is likely other factors causing the median age at death to decrease. Overall, we concluded that the most dangerous neighborhood in Pittsburgh would be the one that has a combination of the most covid cases, the most firearms being seized, and the lowest median age at death.*"
   ]
  },
  {
   "cell_type": "markdown",
   "metadata": {},
   "source": [
    "##### **Metrics**\n",
    "*We decided to score each dataset individually and then use a loop to find overlap in the top 20 most dangerous neighborhoods of each dataset and rank those neighborhoods based on where they scored on the datasets.*\n",
    " - Position 1: 1 POINT\n",
    " - Position 2: 2 POINTS\n",
    " - Position 3: 3 POINTS\n",
    " \n",
    "*And so on. The lowest scoring neighborhood of the ones that overlap would be deemed the most dangerous neighborhood in Pittsburgh.*"
   ]
  },
  {
   "cell_type": "code",
   "execution_count": 67,
   "metadata": {},
   "outputs": [],
   "source": [
    "import pandas as pd\n",
    "import csv"
   ]
  },
  {
   "cell_type": "code",
   "execution_count": 68,
   "metadata": {},
   "outputs": [],
   "source": [
    "result_covid = pd.read_csv(\"result_covid.csv\", usecols = [\"neighborhood_municipality\", \"cases_per_100_indv\"])\n",
    "result_firearms = pd.read_csv(\"result_firearms.csv\", usecols = [\"neighborhood\", \"total_count\"])\n",
    "result_deaths = pd.read_csv(\"result_deaths.csv\", usecols = [\"NEIGHBORHOOD\", \"TOTAL MD AGE AT DEATH\"])\n",
    "result_covid.to_csv(\"covid.csv\")\n",
    "result_firearms.to_csv(\"firearms.csv\")\n",
    "result_deaths.to_csv(\"deaths.csv\")"
   ]
  },
  {
   "cell_type": "code",
   "execution_count": 73,
   "metadata": {},
   "outputs": [],
   "source": [
    "neighborhood_dict = {}"
   ]
  },
  {
   "cell_type": "code",
   "execution_count": 74,
   "metadata": {},
   "outputs": [
    {
     "name": "stdout",
     "output_type": "stream",
     "text": [
      "{'glen hazel': 1, 'central oakland': 2, 'baldwin borough': 3, 'whitehall': 4, 'south oakland': 5, 'haysville': 6, 'new homestead': 7, 'mount oliver borough': 8, 'chalfant': 9, 'hays': 10, 'glenfield': 11, 'crafton heights': 12, 'westwood': 13, 'banksville': 14, 'southside slopes': 15, 'versailles': 16, 'whitaker': 17, 'esplen': 18, 'ingram': 19, 'stowe': 20}\n"
     ]
    }
   ],
   "source": [
    "with open(\"covid.csv\",'r') as data: \n",
    "    next(data)\n",
    "    for line in csv.reader(data): \n",
    "        val = int(line[0]) + 1\n",
    "        if line[1].lower() not in neighborhood_dict:\n",
    "            neighborhood_dict[line[1].lower()] = val\n",
    "        else:\n",
    "            neighborhood_dict[line[1].lower()] = val + neighborhood_dict[line[1].lower()]\n",
    "print (neighborhood_dict)"
   ]
  },
  {
   "cell_type": "code",
   "execution_count": 75,
   "metadata": {},
   "outputs": [
    {
     "name": "stdout",
     "output_type": "stream",
     "text": [
      "{'glen hazel': 1, 'central oakland': 2, 'baldwin borough': 3, 'whitehall': 4, 'south oakland': 5, 'haysville': 6, 'new homestead': 7, 'mount oliver borough': 8, 'chalfant': 9, 'hays': 10, 'glenfield': 11, 'crafton heights': 12, 'westwood': 13, 'banksville': 14, 'southside slopes': 15, 'versailles': 16, 'whitaker': 17, 'esplen': 18, 'ingram': 19, 'stowe': 20, 'homewood south': 1, 'south side flats': 2, 'homewood north': 3, 'larimer': 4, 'carrick': 5, 'hazelwood': 6, 'perry south': 7, 'central business district': 8, 'sheraden': 9, 'marshall-shadeland': 10, 'lincoln-lemington-belmar': 11, 'garfield': 12, 'middle hill': 13, 'knoxville': 14, 'mount washington': 15, 'east hills': 16, 'brighton heights': 17, 'east liberty': 18, 'bedford dwellings': 19, 'manchester': 20}\n"
     ]
    }
   ],
   "source": [
    "with open(\"firearms.csv\",'r') as data: \n",
    "    next(data)\n",
    "    for line in csv.reader(data): \n",
    "        val = int(line[0]) + 1\n",
    "        if line[1].lower() not in neighborhood_dict:\n",
    "            neighborhood_dict[line[1].lower()] = val\n",
    "        else:\n",
    "            neighborhood_dict[line[1].lower()] = val + neighborhood_dict[line[1].lower()]\n",
    "print (neighborhood_dict)"
   ]
  },
  {
   "cell_type": "code",
   "execution_count": 78,
   "metadata": {},
   "outputs": [
    {
     "name": "stdout",
     "output_type": "stream",
     "text": [
      "53\n"
     ]
    }
   ],
   "source": [
    "with open(\"deaths.csv\",'r') as data: \n",
    "    next(data)\n",
    "    for line in csv.reader(data): \n",
    "        val = int(line[0]) + 1\n",
    "        if line[1].lower() not in neighborhood_dict:\n",
    "            neighborhood_dict[line[1].lower()] = val\n",
    "        else:\n",
    "            neighborhood_dict[line[1].lower()] = val + neighborhood_dict[line[1].lower()]\n",
    "print (len(neighborhood_dict))"
   ]
  },
  {
   "cell_type": "code",
   "execution_count": null,
   "metadata": {},
   "outputs": [],
   "source": []
  }
 ],
 "metadata": {
  "kernelspec": {
   "display_name": "Python 3",
   "language": "python",
   "name": "python3"
  },
  "language_info": {
   "codemirror_mode": {
    "name": "ipython",
    "version": 3
   },
   "file_extension": ".py",
   "mimetype": "text/x-python",
   "name": "python",
   "nbconvert_exporter": "python",
   "pygments_lexer": "ipython3",
   "version": "3.8.3"
  }
 },
 "nbformat": 4,
 "nbformat_minor": 4
}
