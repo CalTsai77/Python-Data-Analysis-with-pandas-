{
 "cells": [
  {
   "cell_type": "markdown",
   "metadata": {},
   "source": [
    "## The Best-Worst Neighborhood\n",
    "#### Team Proficient Pandas\n"
   ]
  },
  {
   "cell_type": "markdown",
   "metadata": {},
   "source": [
    "##### **Introduction**\n",
    "*Our group decided to explore the question \"What is the most dangerous neighborhood to live in in Pittsburgh?\" With data from the WPRDC, we settled on three factors that determine how dangerous a neighborhood may be to live in. The first factor we chose was COVID-19. We used a data set \"COVID-19 Counts by Municipality and Neighborhood\" to determine how well each neighborhood was handling the current pandemic. The next factor we thought was important was gun-violence. For this factor we used the data set \"Firearm Seizures Data\" in order to find out which neighborhood had the most reports of firearms being seized there. We thought that this was the best way to determine the threat of gun-violence in each neighborhood. Finally, we used \"Allegheny County Median Age at Death\" to determine which neighborhoods had the lowest median age at death. We thought this was a factor in being the most dangerous because people dying at younger ages means that there is likely other factors causing the median age at death to decrease. Overall, we concluded that the most dangerous neighborhood in Pittsburgh would be the one that has a combination of the most covid cases, the most firearms being seized, and the lowest median age at death.*"
   ]
  },
  {
   "cell_type": "markdown",
   "metadata": {},
   "source": [
    "##### **Metrics**\n",
    "*We decided to score each dataset individually and then use a loop to find overlap in the top 35 most dangerous neighborhoods of each dataset and finally rank those neighborhoods based on where they scored on the datasets.*\n",
    " - Position 1: 1 POINT\n",
    " - Position 2: 2 POINTS\n",
    " - Position 3: 3 POINTS\n",
    " \n",
    "*And so on. The lowest scoring neighborhood of the ones that overlap would be deemed the most dangerous neighborhood in Pittsburgh.*"
   ]
  },
  {
   "cell_type": "code",
<<<<<<< HEAD
   "execution_count": 34,
=======
   "execution_count": 1,
>>>>>>> 7998bdc8454f82bd920957d89f01e817305c68a3
   "metadata": {},
   "outputs": [],
   "source": [
    "import pandas as pd\n",
    "import csv"
   ]
  },
  {
   "cell_type": "code",
<<<<<<< HEAD
   "execution_count": null,
   "metadata": {},
   "outputs": [],
   "source": []
  },
  {
   "cell_type": "code",
   "execution_count": null,
   "metadata": {},
   "outputs": [],
   "source": []
  },
  {
   "cell_type": "code",
   "execution_count": null,
   "metadata": {},
   "outputs": [],
   "source": []
  },
  {
   "cell_type": "code",
   "execution_count": 35,
=======
   "execution_count": 2,
>>>>>>> 7998bdc8454f82bd920957d89f01e817305c68a3
   "metadata": {},
   "outputs": [],
   "source": [
    "result_covid = pd.read_csv(\"result_covid.csv\", usecols = [\"neighborhood_municipality\", \"cases_per_100_indv\"])\n",
    "result_covid.to_csv(\"covid.csv\")\n",
    "result_firearms = pd.read_csv(\"result_firearms.csv\", usecols = [\"neighborhood\", \"total_count\"])\n",
    "result_firearms.to_csv(\"firearms.csv\")\n",
    "result_deaths = pd.read_csv(\"result_deaths.csv\", usecols = [\"NEIGHBORHOOD\", \"TOTAL MD AGE AT DEATH\"])\n",
    "result_deaths.to_csv(\"deaths.csv\")"
   ]
  },
  {
   "cell_type": "code",
<<<<<<< HEAD
   "execution_count": 36,
=======
   "execution_count": 3,
>>>>>>> 7998bdc8454f82bd920957d89f01e817305c68a3
   "metadata": {},
   "outputs": [],
   "source": [
    "neighborhood_covid_dict = {}\n",
    "neighborhood_fire_dict = {}\n",
    "neighborhood_deaths_dict = {}"
   ]
  },
  {
   "cell_type": "code",
<<<<<<< HEAD
   "execution_count": 37,
=======
   "execution_count": 4,
>>>>>>> 7998bdc8454f82bd920957d89f01e817305c68a3
   "metadata": {},
   "outputs": [
    {
     "name": "stdout",
     "output_type": "stream",
     "text": [
      "{'glen hazel': 1, 'central oakland': 2, 'baldwin borough': 3, 'whitehall': 4, 'south oakland': 5, 'haysville': 6, 'new homestead': 7, 'mount oliver borough': 8, 'chalfant': 9, 'hays': 10, 'glenfield': 11, 'crafton heights': 12, 'westwood': 13, 'banksville': 14, 'southside slopes': 15, 'versailles': 16, 'whitaker': 17, 'esplen': 18, 'ingram': 19, 'stowe': 20, 'southside flats': 21, 'undefined': 22, 'west homestead': 23, 'manchester': 24, 'knoxville': 25, 'terrace village': 26, 'beltzhoover': 27, 'bedford dwellings': 28, 'duquesne': 29, 'jefferson hills': 30, 'carrick': 31, 'scott': 32, 'homewood north': 33, 'brentwood': 34, 'castle shannon': 35}\n",
      "\n",
      "{'homewood south': 1, 'south side flats': 2, 'homewood north': 3, 'larimer': 4, 'carrick': 5, 'hazelwood': 6, 'perry south': 7, 'central business district': 8, 'sheraden': 9, 'marshall-shadeland': 10, 'lincoln-lemington-belmar': 11, 'garfield': 12, 'middle hill': 13, 'knoxville': 14, 'mount washington': 15, 'east hills': 16, 'brighton heights': 17, 'east liberty': 18, 'bedford dwellings': 19, 'manchester': 20, 'allentown': 21, 'central northside': 22, 'beechview': 23, 'spring hill-city view': 24, 'fineview': 25, 'east allegheny': 26, 'crawford-roberts': 27, 'brookline': 28, 'northview heights': 29, 'homewood west': 30, 'beltzhoover': 31, 'bluff': 32, 'south side slopes': 33, 'terrace village': 34, 'bloomfield': 35}\n",
      "\n",
      "{'east allegheny': 1, 'allentown': 2, 'manchester': 3, 'northview heights': 4, 'california-kirkbride': 5, 'bluff': 6, 'marshall-shadeland': 7, \"troy hill/herr's island\": 8, 'fineview': 9, 'east hills': 10, 'friendship': 11, 'terrace village': 12, 'bedford dwellings': 13, 'knoxville': 14, 'central northside': 15, 'spring garden': 16, 'sheraden': 17, 'elliott': 18, 'polish hill': 19, 'hazelwood': 20, 'middle hill': 21, 'east liberty': 22, 'point breeze north': 23, 'garfield': 24, 'crafton heights': 25, 'arlington': 26, 'upper lawrenceville': 27, 'lower lawrenceville': 28, 'central business district': 29, 'perry north': 30, 'crawford roberts': 31, 'mount oliver neighborhood': 32, 'homewood north': 33, 'larimer': 34, 'carrick': 35}\n"
     ]
    }
   ],
   "source": [
    "with open(\"covid.csv\",'r') as data: \n",
    "    next(data)\n",
    "    for line in csv.reader(data): \n",
    "        val = int(line[0]) + 1\n",
    "        if line[1].lower() not in neighborhood_covid_dict:\n",
    "            neighborhood_covid_dict[line[1].lower()] = val\n",
    "        else:\n",
    "            neighborhood_covid_dict[line[1].lower()] = val + neighborhood_covid_dict[line[1].lower()]\n",
<<<<<<< HEAD
    "            \n",
    "print (neighborhood_covid_dict)\n",
    "print()\n",
    "\n",
=======
    "print (neighborhood_covid_dict)"
   ]
  },
  {
   "cell_type": "code",
   "execution_count": 5,
   "metadata": {},
   "outputs": [
    {
     "name": "stdout",
     "output_type": "stream",
     "text": [
      "{'homewood south': 1, 'south side flats': 2, 'homewood north': 3, 'larimer': 4, 'carrick': 5, 'hazelwood': 6, 'perry south': 7, 'central business district': 8, 'sheraden': 9, 'marshall-shadeland': 10, 'lincoln-lemington-belmar': 11, 'garfield': 12, 'middle hill': 13, 'knoxville': 14, 'mount washington': 15, 'east hills': 16, 'brighton heights': 17, 'east liberty': 18, 'bedford dwellings': 19, 'manchester': 20, 'allentown': 21, 'central northside': 22, 'beechview': 23, 'spring hill-city view': 24, 'fineview': 25, 'east allegheny': 26, 'crawford-roberts': 27, 'brookline': 28, 'northview heights': 29, 'homewood west': 30, 'beltzhoover': 31, 'bluff': 32, 'south side slopes': 33, 'terrace village': 34, 'bloomfield': 35}\n"
     ]
    }
   ],
   "source": [
>>>>>>> 7998bdc8454f82bd920957d89f01e817305c68a3
    "with open(\"firearms.csv\",'r') as data: \n",
    "    next(data)\n",
    "    for line in csv.reader(data): \n",
    "        val = int(line[0]) + 1\n",
    "        if line[1].lower() not in neighborhood_fire_dict:\n",
    "            neighborhood_fire_dict[line[1].lower()] = val\n",
    "        else:\n",
    "            neighborhood_fire_dict[line[1].lower()] = val + neighborhood_fire_dict[line[1].lower()]\n",
<<<<<<< HEAD
    "            \n",
    "print (neighborhood_fire_dict)\n",
    "print()\n",
    "\n",
=======
    "print (neighborhood_fire_dict)"
   ]
  },
  {
   "cell_type": "code",
   "execution_count": 6,
   "metadata": {},
   "outputs": [
    {
     "name": "stdout",
     "output_type": "stream",
     "text": [
      "{'east allegheny': 1, 'allentown': 2, 'manchester': 3, 'northview heights': 4, 'california-kirkbride': 5, 'bluff': 6, 'marshall-shadeland': 7, \"troy hill/herr's island\": 8, 'fineview': 9, 'east hills': 10, 'friendship': 11, 'terrace village': 12, 'bedford dwellings': 13, 'knoxville': 14, 'central northside': 15, 'spring garden': 16, 'sheraden': 17, 'elliott': 18, 'polish hill': 19, 'hazelwood': 20, 'middle hill': 21, 'east liberty': 22, 'point breeze north': 23, 'garfield': 24, 'crafton heights': 25, 'arlington': 26, 'upper lawrenceville': 27, 'lower lawrenceville': 28, 'central business district': 29, 'perry north': 30, 'crawford roberts': 31, 'mount oliver neighborhood': 32, 'homewood north': 33, 'larimer': 34, 'carrick': 35}\n"
     ]
    }
   ],
   "source": [
>>>>>>> 7998bdc8454f82bd920957d89f01e817305c68a3
    "with open(\"deaths.csv\",'r') as data: \n",
    "    next(data)\n",
    "    for line in csv.reader(data): \n",
    "        val = int(line[0]) + 1\n",
    "        if line[1].lower() not in neighborhood_deaths_dict:\n",
    "            neighborhood_deaths_dict[line[1].lower()] = val\n",
    "        else:\n",
    "            neighborhood_deaths_dict[line[1].lower()] = val + neighborhood_deaths_dict[line[1].lower()]\n",
    "            \n",
    "print (neighborhood_deaths_dict)"
   ]
  },
  {
   "cell_type": "code",
<<<<<<< HEAD
   "execution_count": 26,
=======
   "execution_count": 7,
>>>>>>> 7998bdc8454f82bd920957d89f01e817305c68a3
   "metadata": {},
   "outputs": [],
   "source": [
    "overlap = neighborhood_fire_dict.keys() & neighborhood_deaths_dict.keys() & neighborhood_covid_dict.keys()"
   ]
  },
  {
   "cell_type": "code",
<<<<<<< HEAD
   "execution_count": 27,
=======
   "execution_count": 8,
>>>>>>> 7998bdc8454f82bd920957d89f01e817305c68a3
   "metadata": {},
   "outputs": [
    {
     "name": "stdout",
     "output_type": "stream",
     "text": [
      "[('homewood south', 1), ('glen hazel', 1), ('south side flats', 2), ('central oakland', 2), ('baldwin borough', 3), ('whitehall', 4), ('california-kirkbride', 5), ('south oakland', 5), ('haysville', 6), ('perry south', 7), ('new homestead', 7), (\"troy hill/herr's island\", 8), ('mount oliver borough', 8), ('chalfant', 9), ('hays', 10), ('friendship', 11), ('lincoln-lemington-belmar', 11), ('glenfield', 11), ('westwood', 13), ('banksville', 14), ('mount washington', 15), ('southside slopes', 15), ('spring garden', 16), ('versailles', 16), ('marshall-shadeland', 17), ('brighton heights', 17), ('whitaker', 17), ('elliott', 18), ('esplen', 18), ('polish hill', 19), ('ingram', 19), ('stowe', 20), ('southside flats', 21), ('undefined', 22), ('allentown', 23), ('point breeze north', 23), ('beechview', 23), ('west homestead', 23), ('spring hill-city view', 24), ('east hills', 26), ('sheraden', 26), ('hazelwood', 26), ('arlington', 26), ('east allegheny', 27), ('upper lawrenceville', 27), ('crawford-roberts', 27), ('lower lawrenceville', 28), ('brookline', 28), ('duquesne', 29), ('perry north', 30), ('homewood west', 30), ('jefferson hills', 30), ('crawford roberts', 31), ('mount oliver neighborhood', 32), ('scott', 32), ('northview heights', 33), ('south side slopes', 33), ('fineview', 34), ('middle hill', 34), ('brentwood', 34), ('bloomfield', 35), ('castle shannon', 35), ('garfield', 36), ('central northside', 37), ('crafton heights', 37), ('central business district', 37), ('bluff', 38), ('larimer', 38), ('east liberty', 40), ('manchester', 47), ('knoxville', 53), ('beltzhoover', 58), ('bedford dwellings', 60), ('homewood north', 69), ('carrick', 71), ('terrace village', 72)]\n"
     ]
    }
   ],
   "source": [
    "all_dict = {}\n",
    "with open(\"deaths.csv\",'r') as data: \n",
    "    next(data)\n",
    "    for line in csv.reader(data): \n",
    "        val = int(line[0]) + 1\n",
    "        if line[1].lower() not in all_dict:\n",
    "            all_dict[line[1].lower()] = val\n",
    "        else:\n",
    "            all_dict[line[1].lower()] = val + all_dict[line[1].lower()]\n",
    "            \n",
    "with open(\"firearms.csv\",'r') as data: \n",
    "    next(data)\n",
    "    for line in csv.reader(data): \n",
    "        val = int(line[0]) + 1\n",
    "        if line[1].lower() not in all_dict:\n",
    "            all_dict[line[1].lower()] = val\n",
    "        else:\n",
    "            all_dict[line[1].lower()] = val + all_dict[line[1].lower()]\n",
    "\n",
    "with open(\"covid.csv\",'r') as data: \n",
    "    next(data)\n",
    "    for line in csv.reader(data): \n",
    "        val = int(line[0]) + 1\n",
    "        if line[1].lower() not in all_dict:\n",
    "            all_dict[line[1].lower()] = val\n",
    "        else:\n",
    "            all_dict[line[1].lower()] = val + all_dict[line[1].lower()]\n",
    "\n",
    "print (sorted(all_dict.items(), key=lambda x: x[1], reverse = False))"
   ]
  },
  {
   "cell_type": "code",
<<<<<<< HEAD
   "execution_count": 32,
=======
   "execution_count": 9,
>>>>>>> 7998bdc8454f82bd920957d89f01e817305c68a3
   "metadata": {},
   "outputs": [
    {
     "name": "stdout",
     "output_type": "stream",
     "text": [
<<<<<<< HEAD
      "terrace village: 72\n",
      "homewood north: 69\n",
      "carrick: 71\n",
      "knoxville: 53\n",
      "manchester: 47\n",
      "bedford dwellings: 60\n"
=======
      "terrace village:\n",
      "72\n",
      "homewood north:\n",
      "69\n",
      "manchester:\n",
      "47\n",
      "knoxville:\n",
      "53\n",
      "carrick:\n",
      "71\n",
      "bedford dwellings:\n",
      "60\n"
>>>>>>> 7998bdc8454f82bd920957d89f01e817305c68a3
     ]
    }
   ],
   "source": [
    "for neighborhood in overlap:\n",
    "    print(neighborhood + \": \" + str(all_dict[neighborhood]))"
   ]
  },
  {
   "cell_type": "code",
   "execution_count": null,
   "metadata": {},
   "outputs": [],
   "source": []
  }
 ],
 "metadata": {
  "kernelspec": {
   "display_name": "Python 3",
   "language": "python",
   "name": "python3"
  },
  "language_info": {
   "codemirror_mode": {
    "name": "ipython",
    "version": 3
   },
   "file_extension": ".py",
   "mimetype": "text/x-python",
   "name": "python",
   "nbconvert_exporter": "python",
   "pygments_lexer": "ipython3",
   "version": "3.8.3"
  }
 },
 "nbformat": 4,
 "nbformat_minor": 4
}
