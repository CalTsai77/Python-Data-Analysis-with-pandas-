{
 "cells": [
  {
   "cell_type": "markdown",
   "metadata": {},
   "source": [
    "## The Best-Worst Neighborhood\n",
    "#### Team Proficient Pandas\n"
   ]
  },
  {
   "cell_type": "markdown",
   "metadata": {},
   "source": [
    "##### **Introduction**\n",
    "*Our group decided to explore the question \"What is the most dangerous neighborhood to live in in Pittsburgh?\" With data from the WPRDC, we settled on three factors that determine how dangerous a neighborhood may be to live in. The first factor we chose was COVID-19. We used a data set \"COVID-19 Counts by Municipality and Neighborhood\" to determine how well each neighborhood was handling the current pandemic. The next factor we thought was important was gun-violence. For this factor we used the data set \"Firearm Seizures Data\" in order to find out which neighborhood had the most reports of firearms being seized there. We thought that this was the best way to determine the threat of gun-violence in each neighborhood. Finally, we used \"Allegheny County Median Age at Death\" to determine which neighborhoods had the lowest median age at death. We thought this was a factor in being the most dangerous because people dying at younger ages means that there is likely other factors causing the median age at death to decrease. Overall, we concluded that the most dangerous neighborhood in Pittsburgh would be the one that has a combination of the most covid cases, the most firearms being seized, and the lowest median age at death.*"
   ]
  },
  {
   "cell_type": "markdown",
   "metadata": {},
   "source": [
    "##### **Metrics**\n",
    "*We decided to score each dataset individually and then use a loop to find overlap in the top 20 most dangerous neighborhoods of each dataset and finally rank those neighborhoods based on where they scored on the datasets.*\n",
    " - Position 1: 1 POINT\n",
    " - Position 2: 2 POINTS\n",
    " - Position 3: 3 POINTS\n",
    " \n",
    "*And so on. The lowest scoring neighborhood of the ones that overlap would be deemed the most dangerous neighborhood in Pittsburgh.*"
   ]
  },
  {
   "cell_type": "code",
   "execution_count": null,
   "metadata": {},
   "outputs": [],
   "source": []
  }
 ],
 "metadata": {
  "kernelspec": {
   "display_name": "Python 3",
   "language": "python",
   "name": "python3"
  },
  "language_info": {
   "codemirror_mode": {
    "name": "ipython",
    "version": 3
   },
   "file_extension": ".py",
   "mimetype": "text/x-python",
   "name": "python",
   "nbconvert_exporter": "python",
   "pygments_lexer": "ipython3",
   "version": "3.8.3"
  }
 },
 "nbformat": 4,
 "nbformat_minor": 4
}
