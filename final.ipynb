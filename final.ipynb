{
 "cells": [
  {
   "cell_type": "markdown",
   "metadata": {},
   "source": [
    "## The Best-Worst Neighborhood\n",
    "#### Team Proficient Pandas\n"
   ]
  },
  {
   "cell_type": "markdown",
   "metadata": {},
   "source": [
    "##### **Introduction**\n",
    "*Our group decided to explore the question \"What is the most dangerous neighborhood to live in in Pittsburgh?\" With data from the WPRDC, we settled on three factors that determine how dangerous a neighborhood may be to live in. The first factor we chose was COVID-19. We used a data set \"COVID-19 Counts by Municipality and Neighborhood\" to determine how well each neighborhood was handling the current pandemic. The next factor we thought was important was gun-violence. For this factor we used the data set \"Firearm Seizures Data\" in order to find out which neighborhood had the most reports of firearms being seized there. We thought that this was the best way to determine the threat of gun-violence in each neighborhood. Finally, we used \"Allegheny County Median Age at Death\" to determine which neighborhoods had the lowest median age at death. We thought this was a factor in being the most dangerous because people dying at younger ages means that there is likely other factors causing the median age at death to decrease. Overall, we concluded that the most dangerous neighborhood in Pittsburgh would be the one that has a combination of the most covid cases, the most firearms being seized, and the lowest median age at death.*"
   ]
  },
  {
   "cell_type": "markdown",
   "metadata": {},
   "source": [
    "##### **Metrics**\n",
    "*We decided to score each dataset individually and then use a loop to find overlap in the top 20 most dangerous neighborhoods of each dataset and rank those neighborhoods based on where they scored on the datasets.*\n",
    " - Position 1: 1 POINT\n",
    " - Position 2: 2 POINTS\n",
    " - Position 3: 3 POINTS\n",
    " \n",
    "*And so on. The lowest scoring neighborhood of the ones that overlap would be deemed the most dangerous neighborhood in Pittsburgh.*"
   ]
  },
  {
   "cell_type": "code",
   "execution_count": 107,
   "metadata": {},
   "outputs": [],
   "source": [
    "import pandas as pd\n",
    "import csv"
   ]
  },
  {
   "cell_type": "code",
   "execution_count": 108,
   "metadata": {},
   "outputs": [],
   "source": [
    "result_covid = pd.read_csv(\"result_covid.csv\", usecols = [\"neighborhood_municipality\", \"cases_per_100_indv\"])\n",
    "result_firearms = pd.read_csv(\"result_firearms.csv\", usecols = [\"neighborhood\", \"total_count\"])\n",
    "result_deaths = pd.read_csv(\"result_deaths.csv\", usecols = [\"NEIGHBORHOOD\", \"TOTAL MD AGE AT DEATH\"])\n",
    "result_covid.to_csv(\"covid.csv\")\n",
    "result_firearms.to_csv(\"firearms.csv\")\n",
    "result_deaths.to_csv(\"deaths.csv\")"
   ]
  },
  {
   "cell_type": "code",
   "execution_count": 109,
   "metadata": {},
   "outputs": [],
   "source": [
    "neighborhood_covid_dict = {}\n",
    "neighborhood_fire_dict = {}\n",
    "neighborhood_deaths_dict = {}"
   ]
  },
  {
   "cell_type": "code",
   "execution_count": 110,
   "metadata": {},
   "outputs": [
    {
     "name": "stdout",
     "output_type": "stream",
     "text": [
      "{'glen hazel': 1, 'central oakland': 2, 'baldwin borough': 3, 'whitehall': 4, 'south oakland': 5, 'haysville': 6, 'new homestead': 7, 'mount oliver borough': 8, 'chalfant': 9, 'hays': 10, 'glenfield': 11, 'crafton heights': 12, 'westwood': 13, 'banksville': 14, 'southside slopes': 15, 'versailles': 16, 'whitaker': 17, 'esplen': 18, 'ingram': 19, 'stowe': 20, 'southside flats': 21, 'undefined': 22, 'west homestead': 23, 'manchester': 24, 'knoxville': 25, 'terrace village': 26, 'beltzhoover': 27, 'bedford dwellings': 28, 'duquesne': 29, 'jefferson hills': 30, 'carrick': 31, 'scott': 32, 'homewood north': 33, 'brentwood': 34, 'castle shannon': 35}\n"
     ]
    }
   ],
   "source": [
    "with open(\"covid.csv\",'r') as data: \n",
    "    next(data)\n",
    "    for line in csv.reader(data): \n",
    "        val = int(line[0]) + 1\n",
    "        if line[1].lower() not in neighborhood_covid_dict:\n",
    "            neighborhood_covid_dict[line[1].lower()] = val\n",
    "        else:\n",
    "            neighborhood_covid_dict[line[1].lower()] = val + neighborhood_covid_dict[line[1].lower()]\n",
    "print (neighborhood_covid_dict)"
   ]
  },
  {
   "cell_type": "code",
   "execution_count": 111,
   "metadata": {},
   "outputs": [
    {
     "name": "stdout",
     "output_type": "stream",
     "text": [
      "{'homewood south': 1, 'south side flats': 2, 'homewood north': 3, 'larimer': 4, 'carrick': 5, 'hazelwood': 6, 'perry south': 7, 'central business district': 8, 'sheraden': 9, 'marshall-shadeland': 10, 'lincoln-lemington-belmar': 11, 'garfield': 12, 'middle hill': 13, 'knoxville': 14, 'mount washington': 15, 'east hills': 16, 'brighton heights': 17, 'east liberty': 18, 'bedford dwellings': 19, 'manchester': 20, 'allentown': 21, 'central northside': 22, 'beechview': 23, 'spring hill-city view': 24, 'fineview': 25, 'east allegheny': 26, 'crawford-roberts': 27, 'brookline': 28, 'northview heights': 29, 'homewood west': 30, 'beltzhoover': 31, 'bluff': 32, 'south side slopes': 33, 'terrace village': 34, 'bloomfield': 35}\n"
     ]
    }
   ],
   "source": [
    "with open(\"firearms.csv\",'r') as data: \n",
    "    next(data)\n",
    "    for line in csv.reader(data): \n",
    "        val = int(line[0]) + 1\n",
    "        if line[1].lower() not in neighborhood_fire_dict:\n",
    "            neighborhood_fire_dict[line[1].lower()] = val\n",
    "        else:\n",
    "            neighborhood_fire_dict[line[1].lower()] = val + neighborhood_fire_dict[line[1].lower()]\n",
    "print (neighborhood_fire_dict)"
   ]
  },
  {
   "cell_type": "code",
   "execution_count": 112,
   "metadata": {},
   "outputs": [
    {
     "name": "stdout",
     "output_type": "stream",
     "text": [
      "{'east allegheny': 1, 'allentown': 2, 'manchester': 3, 'northview heights': 4, 'california-kirkbride': 5, 'bluff': 6, 'marshall-shadeland': 7, \"troy hill/herr's island\": 8, 'fineview': 9, 'east hills': 10, 'friendship': 11, 'terrace village': 12, 'bedford dwellings': 13, 'knoxville': 14, 'central northside': 15, 'spring garden': 16, 'sheraden': 17, 'elliott': 18, 'polish hill': 19, 'hazelwood': 20, 'middle hill': 21, 'east liberty': 22, 'point breeze north': 23, 'garfield': 24, 'crafton heights': 25, 'arlington': 26, 'upper lawrenceville': 27, 'lower lawrenceville': 28, 'central business district': 29, 'perry north': 30, 'crawford roberts': 31, 'mount oliver neighborhood': 32, 'homewood north': 33, 'larimer': 34, 'carrick': 35}\n"
     ]
    }
   ],
   "source": [
    "with open(\"deaths.csv\",'r') as data: \n",
    "    next(data)\n",
    "    for line in csv.reader(data): \n",
    "        val = int(line[0]) + 1\n",
    "        if line[1].lower() not in neighborhood_deaths_dict:\n",
    "            neighborhood_deaths_dict[line[1].lower()] = val\n",
    "        else:\n",
    "            neighborhood_deaths_dict[line[1].lower()] = val + neighborhood_deaths_dict[line[1].lower()]\n",
    "print (neighborhood_deaths_dict)"
   ]
  },
  {
   "cell_type": "code",
   "execution_count": 113,
   "metadata": {},
   "outputs": [
    {
     "data": {
      "text/plain": [
       "{'bedford dwellings',\n",
       " 'carrick',\n",
       " 'homewood north',\n",
       " 'knoxville',\n",
       " 'manchester',\n",
       " 'terrace village'}"
      ]
     },
     "execution_count": 113,
     "metadata": {},
     "output_type": "execute_result"
    }
   ],
   "source": [
    "overlap = neighborhood_fire_dict.keys() & neighborhood_deaths_dict.keys() & neighborhood_covid_dict.keys()"
   ]
  },
  {
   "cell_type": "code",
   "execution_count": 114,
   "metadata": {},
   "outputs": [
    {
     "name": "stdout",
     "output_type": "stream",
     "text": [
      "{'east allegheny': 27, 'allentown': 23, 'manchester': 47, 'northview heights': 33, 'california-kirkbride': 5, 'bluff': 38, 'marshall-shadeland': 17, \"troy hill/herr's island\": 8, 'fineview': 34, 'east hills': 26, 'friendship': 11, 'terrace village': 72, 'bedford dwellings': 60, 'knoxville': 53, 'central northside': 37, 'spring garden': 16, 'sheraden': 26, 'elliott': 18, 'polish hill': 19, 'hazelwood': 26, 'middle hill': 34, 'east liberty': 40, 'point breeze north': 23, 'garfield': 36, 'crafton heights': 37, 'arlington': 26, 'upper lawrenceville': 27, 'lower lawrenceville': 28, 'central business district': 37, 'perry north': 30, 'crawford roberts': 31, 'mount oliver neighborhood': 32, 'homewood north': 69, 'larimer': 38, 'carrick': 71, 'homewood south': 1, 'south side flats': 2, 'perry south': 7, 'lincoln-lemington-belmar': 11, 'mount washington': 15, 'brighton heights': 17, 'beechview': 23, 'spring hill-city view': 24, 'crawford-roberts': 27, 'brookline': 28, 'homewood west': 30, 'beltzhoover': 58, 'south side slopes': 33, 'bloomfield': 35, 'glen hazel': 1, 'central oakland': 2, 'baldwin borough': 3, 'whitehall': 4, 'south oakland': 5, 'haysville': 6, 'new homestead': 7, 'mount oliver borough': 8, 'chalfant': 9, 'hays': 10, 'glenfield': 11, 'westwood': 13, 'banksville': 14, 'southside slopes': 15, 'versailles': 16, 'whitaker': 17, 'esplen': 18, 'ingram': 19, 'stowe': 20, 'southside flats': 21, 'undefined': 22, 'west homestead': 23, 'duquesne': 29, 'jefferson hills': 30, 'scott': 32, 'brentwood': 34, 'castle shannon': 35}\n"
     ]
    }
   ],
   "source": [
    "all_dict = {}\n",
    "with open(\"deaths.csv\",'r') as data: \n",
    "    next(data)\n",
    "    for line in csv.reader(data): \n",
    "        val = int(line[0]) + 1\n",
    "        if line[1].lower() not in all_dict:\n",
    "            all_dict[line[1].lower()] = val\n",
    "        else:\n",
    "            all_dict[line[1].lower()] = val + all_dict[line[1].lower()]\n",
    "            \n",
    "with open(\"firearms.csv\",'r') as data: \n",
    "    next(data)\n",
    "    for line in csv.reader(data): \n",
    "        val = int(line[0]) + 1\n",
    "        if line[1].lower() not in all_dict:\n",
    "            all_dict[line[1].lower()] = val\n",
    "        else:\n",
    "            all_dict[line[1].lower()] = val + all_dict[line[1].lower()]\n",
    "\n",
    "with open(\"covid.csv\",'r') as data: \n",
    "    next(data)\n",
    "    for line in csv.reader(data): \n",
    "        val = int(line[0]) + 1\n",
    "        if line[1].lower() not in all_dict:\n",
    "            all_dict[line[1].lower()] = val\n",
    "        else:\n",
    "            all_dict[line[1].lower()] = val + all_dict[line[1].lower()]\n",
    "print (all_dict)"
   ]
  },
  {
   "cell_type": "code",
   "execution_count": null,
   "metadata": {},
   "outputs": [],
   "source": []
  }
 ],
 "metadata": {
  "kernelspec": {
   "display_name": "Python 3",
   "language": "python",
   "name": "python3"
  },
  "language_info": {
   "codemirror_mode": {
    "name": "ipython",
    "version": 3
   },
   "file_extension": ".py",
   "mimetype": "text/x-python",
   "name": "python",
   "nbconvert_exporter": "python",
   "pygments_lexer": "ipython3",
   "version": "3.8.3"
  }
 },
 "nbformat": 4,
 "nbformat_minor": 4
}
