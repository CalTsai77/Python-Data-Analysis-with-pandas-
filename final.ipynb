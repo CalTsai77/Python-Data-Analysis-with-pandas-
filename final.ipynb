{
 "cells": [
  {
   "cell_type": "markdown",
   "metadata": {},
   "source": [
    "## The Best-Worst Neighborhood\n",
    "#### Team Proficient Pandas\n"
   ]
  },
  {
   "cell_type": "markdown",
   "metadata": {},
   "source": [
    "##### **Introduction**\n",
    "*Our group decided to explore the question \"What is the most dangerous neighborhood to live in in Pittsburgh?\" With data from the WPRDC, we settled on three factors that determine how dangerous a neighborhood may be to live in. The first factor we chose was COVID-19. We used a data set \"COVID-19 Counts by Municipality and Neighborhood\" to determine how well each neighborhood was handling the current pandemic. The next factor we ch*"
   ]
  },
  {
   "cell_type": "code",
   "execution_count": null,
   "metadata": {},
   "outputs": [],
   "source": []
  }
 ],
 "metadata": {
  "kernelspec": {
   "display_name": "Python 3",
   "language": "python",
   "name": "python3"
  },
  "language_info": {
   "codemirror_mode": {
    "name": "ipython",
    "version": 3
   },
   "file_extension": ".py",
   "mimetype": "text/x-python",
   "name": "python",
   "nbconvert_exporter": "python",
   "pygments_lexer": "ipython3",
   "version": "3.8.3"
  }
 },
 "nbformat": 4,
 "nbformat_minor": 4
}
